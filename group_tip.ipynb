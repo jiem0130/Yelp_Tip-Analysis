{
 "cells": [
  {
   "cell_type": "code",
   "execution_count": 1,
   "metadata": {
    "collapsed": true
   },
   "outputs": [],
   "source": [
    "import json\n",
    "from pandas import DataFrame\n",
    "from sklearn.feature_extraction.text import TfidfVectorizer\n",
    "import numpy as np\n",
    "import nltk"
   ]
  },
  {
   "cell_type": "code",
   "execution_count": 2,
   "metadata": {
    "collapsed": true
   },
   "outputs": [],
   "source": [
    "def load_tip(tip_path):\n",
    "    data = [json.loads(line) for line in open(tip_path,encoding=\"utf8\")]\n",
    "    return data"
   ]
  },
  {
   "cell_type": "code",
   "execution_count": 3,
   "metadata": {
    "collapsed": true
   },
   "outputs": [],
   "source": [
    "def drop_cols(fields, dlist):\n",
    "   \n",
    "    for record in dlist:\n",
    "        for field in fields:\n",
    "            del (record[field])\n",
    "\n",
    "\n",
    "def filter_data(data, field, values):\n",
    "    filtered_data = [record for record in data if\n",
    "                        record[field] in values]\n",
    "    return filtered_data"
   ]
  },
  {
   "cell_type": "code",
   "execution_count": 4,
   "metadata": {
    "collapsed": true
   },
   "outputs": [],
   "source": [
    "def analyze(tip_path, n):\n",
    "        data = load_tip(tip_path)\n",
    "        drop_cols(['text',  'date', 'user_id', 'likes'],\n",
    "                             data)\n",
    "        data_frame = DataFrame(data)\n",
    "        counts = data_frame.groupby('business_id').size()\n",
    "        countval=counts.sort_values( ascending=False)\n",
    "        top_counts = countval[:n]\n",
    "        print(top_counts)  "
   ]
  },
  {
   "cell_type": "markdown",
   "metadata": {},
   "source": [
    "We can find out which business receives tip more often."
   ]
  },
  {
   "cell_type": "code",
   "execution_count": 5,
   "metadata": {
    "collapsed": false,
    "scrolled": true
   },
   "outputs": [
    {
     "name": "stdout",
     "output_type": "stream",
     "text": [
      "business_id\n",
      "FaHADZARwnY4yvlvpnsfGA    3444\n",
      "JmI9nslLD7KZqRr__Bg6NQ    2326\n",
      "DkYS3arLOhA8si5uUEmHOw    1448\n",
      "5LNZ67Yw9RD6nf4_UhXOjw    1413\n",
      "K7lWdNUhCbcnEvI0NhGewg    1313\n",
      "hihud--QRriCYZw1zZvW4g    1230\n",
      "RESDUcs7fIiihp38-d6_6g    1082\n",
      "yfxDa8RFOvJPQh0rNtakHA    1033\n",
      "4JNXUYY8wbaaDmk3BPzlWw    1011\n",
      "iCQpiavjjPzJ5_3gPD5Ebg    1004\n",
      "dtype: int64\n"
     ]
    }
   ],
   "source": [
    "tip_folder = 'E:/MyDownloads/Programming/group/'\n",
    "tip_file_path = data_folder + 'tip.json'\n",
    "analyze(tip_file_path, 10)"
   ]
  },
  {
   "cell_type": "markdown",
   "metadata": {},
   "source": [
    "Above 10 businesses receives more often than others. Let's find out what on the tip."
   ]
  },
  {
   "cell_type": "code",
   "execution_count": 6,
   "metadata": {
    "collapsed": true
   },
   "outputs": [],
   "source": [
    "import nltk.stem\n",
    "english_stemmer = nltk.stem.SnowballStemmer('english')\n",
    "from sklearn.feature_extraction.text import TfidfVectorizer\n",
    "\n",
    "class StemmedTfidfVectorizer(TfidfVectorizer):\n",
    "\n",
    "    def tip_analyzer(self):\n",
    "        analyzer = super(StemmedTfidfVectorizer, self).tip_analyzer()\n",
    "        return lambda doc: (english_stemmer.stem(w) for w in analyzer(doc))"
   ]
  },
  {
   "cell_type": "markdown",
   "metadata": {},
   "source": [
    "Create a function to apply TF-IDF to the text inside the tips"
   ]
  },
  {
   "cell_type": "code",
   "execution_count": 16,
   "metadata": {
    "collapsed": true
   },
   "outputs": [],
   "source": [
    "def tipword(tip_path, business_id, stem):\n",
    "        data = load_tip(tip_path)\n",
    "        text = [record['text'] for record in data]\n",
    "        vectorizer = TfidfVectorizer(min_df=1, stop_words='english')\n",
    "        if stem:\n",
    "            vectorizer = StemmedTfidfVectorizer(min_df=1, stop_words='english')\n",
    "        train = vectorizer.fit_transform(text)\n",
    "        num_samples, num_features = train.shape\n",
    "        print(\"#samples: %d, #features: %d\" % (\n",
    "            num_samples, num_features))\n",
    "\n",
    "        business_data = filter_data(data, 'business_id', [business_id])\n",
    "        text_data = [record['text'] for record in business_data]\n",
    "        freq_term_matrix = vectorizer.transform(text_data)\n",
    "        dictionary = vectorizer.get_feature_names()\n",
    "\n",
    "        my_tip = []\n",
    "        rows, cols = freq_term_matrix.nonzero()\n",
    "        for row, col in zip(rows, cols):\n",
    "            my_voca = {}\n",
    "            word = dictionary[col]\n",
    "            my_voca['tip_id'] = row\n",
    "            my_voca['word'] = word\n",
    "            my_voca['tfidf'] = freq_term_matrix[row, col]\n",
    "            my_tip.append(my_voca)\n",
    "\n",
    "        data_frame = DataFrame(my_tip)\n",
    "        suma = data_frame.groupby('word').aggregate(np.sum)['tfidf']\n",
    "        freqlist = suma.sort_values(ascending=False)\n",
    "        print(freqlist)"
   ]
  },
  {
   "cell_type": "markdown",
   "metadata": {},
   "source": [
    "Take the business \"FaHADZARwnY4yvlvpnsfGA\" which receives tips the most often as an example. What words appear frequently?"
   ]
  },
  {
   "cell_type": "code",
   "execution_count": 17,
   "metadata": {
    "collapsed": false
   },
   "outputs": [
    {
     "name": "stdout",
     "output_type": "stream",
     "text": [
      "#samples: 1028802, #features: 117049\n",
      "word\n",
      "vegas          294.824283\n",
      "home           209.366089\n",
      "airport         94.887072\n",
      "bye             76.039553\n",
      "las             65.439130\n",
      "terminal        61.232369\n",
      "time            60.141170\n",
      "flight          51.941369\n",
      "baby            47.327820\n",
      "security        47.320246\n",
      "going           45.993823\n",
      "hello           44.239330\n",
      "bound           38.668643\n",
      "slot            34.250585\n",
      "viva            33.924970\n",
      "finally         33.146537\n",
      "landed          31.912381\n",
      "tsa             30.848470\n",
      "machines        29.020207\n",
      "goodbye         27.672426\n",
      "let             27.356123\n",
      "picking         26.318481\n",
      "leaving         26.167413\n",
      "slots           25.091983\n",
      "sin             24.620386\n",
      "early           24.244900\n",
      "gate            24.103981\n",
      "fly             23.939620\n",
      "free            23.909265\n",
      "wifi            23.752482\n",
      "                  ...    \n",
      "sake             0.197404\n",
      "legs             0.196294\n",
      "20mins           0.196059\n",
      "prime            0.193937\n",
      "unhappy          0.193280\n",
      "briefing         0.191512\n",
      "recommended      0.189519\n",
      "host             0.188866\n",
      "aircraft         0.186735\n",
      "female           0.184289\n",
      "worker           0.183660\n",
      "noticed          0.182544\n",
      "douchebag        0.182169\n",
      "freaking         0.181328\n",
      "obviously        0.177139\n",
      "cars             0.174112\n",
      "gov              0.171189\n",
      "tv               0.164907\n",
      "dedicated        0.163858\n",
      "increased        0.163486\n",
      "mgm              0.160323\n",
      "2am              0.154107\n",
      "ave              0.153734\n",
      "waited           0.147845\n",
      "dot              0.145394\n",
      "lack             0.142040\n",
      "dept             0.140671\n",
      "notice           0.123658\n",
      "called           0.120927\n",
      "atmosphere       0.117581\n",
      "Name: tfidf, Length: 3503, dtype: float64\n"
     ]
    }
   ],
   "source": [
    "tipword(tip_file_path, 'FaHADZARwnY4yvlvpnsfGA', 0)"
   ]
  },
  {
   "cell_type": "markdown",
   "metadata": {},
   "source": [
    "Below filters words with same meaning so that words such as drink and drinks would not showed at the same time."
   ]
  },
  {
   "cell_type": "code",
   "execution_count": 18,
   "metadata": {
    "collapsed": false
   },
   "outputs": [
    {
     "name": "stdout",
     "output_type": "stream",
     "text": [
      "#samples: 1028802, #features: 117049\n",
      "word\n",
      "vegas          294.824283\n",
      "home           209.366089\n",
      "airport         94.887072\n",
      "bye             76.039553\n",
      "las             65.439130\n",
      "terminal        61.232369\n",
      "time            60.141170\n",
      "flight          51.941369\n",
      "baby            47.327820\n",
      "security        47.320246\n",
      "going           45.993823\n",
      "hello           44.239330\n",
      "bound           38.668643\n",
      "slot            34.250585\n",
      "viva            33.924970\n",
      "finally         33.146537\n",
      "landed          31.912381\n",
      "tsa             30.848470\n",
      "machines        29.020207\n",
      "goodbye         27.672426\n",
      "let             27.356123\n",
      "picking         26.318481\n",
      "leaving         26.167413\n",
      "slots           25.091983\n",
      "sin             24.620386\n",
      "early           24.244900\n",
      "gate            24.103981\n",
      "fly             23.939620\n",
      "free            23.909265\n",
      "wifi            23.752482\n",
      "                  ...    \n",
      "sake             0.197404\n",
      "legs             0.196294\n",
      "20mins           0.196059\n",
      "prime            0.193937\n",
      "unhappy          0.193280\n",
      "briefing         0.191512\n",
      "recommended      0.189519\n",
      "host             0.188866\n",
      "aircraft         0.186735\n",
      "female           0.184289\n",
      "worker           0.183660\n",
      "noticed          0.182544\n",
      "douchebag        0.182169\n",
      "freaking         0.181328\n",
      "obviously        0.177139\n",
      "cars             0.174112\n",
      "gov              0.171189\n",
      "tv               0.164907\n",
      "dedicated        0.163858\n",
      "increased        0.163486\n",
      "mgm              0.160323\n",
      "2am              0.154107\n",
      "ave              0.153734\n",
      "waited           0.147845\n",
      "dot              0.145394\n",
      "lack             0.142040\n",
      "dept             0.140671\n",
      "notice           0.123658\n",
      "called           0.120927\n",
      "atmosphere       0.117581\n",
      "Name: tfidf, Length: 3503, dtype: float64\n"
     ]
    }
   ],
   "source": [
    "tipword(tip_file_path, 'FaHADZARwnY4yvlvpnsfGA', 1)"
   ]
  },
  {
   "cell_type": "markdown",
   "metadata": {},
   "source": [
    "This business is a hotel obviously while it contains some useful information, the restaurant is the one we would like to analyze. However we can still had some findings such as free wifi is an important reason when customers give tips.  "
   ]
  },
  {
   "cell_type": "markdown",
   "metadata": {},
   "source": [
    "Next let's find out the tip words on the lists of out result sheet."
   ]
  },
  {
   "cell_type": "code",
   "execution_count": 12,
   "metadata": {
    "collapsed": true
   },
   "outputs": [],
   "source": [
    "import pandas as pd\n",
    "result = pd.read_csv(\"E:/MyDownloads/Programming/group/result.csv\")"
   ]
  },
  {
   "cell_type": "code",
   "execution_count": 13,
   "metadata": {
    "collapsed": false
   },
   "outputs": [
    {
     "data": {
      "text/html": [
       "<div>\n",
       "<style>\n",
       "    .dataframe thead tr:only-child th {\n",
       "        text-align: right;\n",
       "    }\n",
       "\n",
       "    .dataframe thead th {\n",
       "        text-align: left;\n",
       "    }\n",
       "\n",
       "    .dataframe tbody tr th {\n",
       "        vertical-align: top;\n",
       "    }\n",
       "</style>\n",
       "<table border=\"1\" class=\"dataframe\">\n",
       "  <thead>\n",
       "    <tr style=\"text-align: right;\">\n",
       "      <th></th>\n",
       "      <th>Unnamed: 0</th>\n",
       "      <th>state</th>\n",
       "      <th>city</th>\n",
       "      <th>business_id</th>\n",
       "      <th>business_name</th>\n",
       "      <th>address</th>\n",
       "      <th>review_starsOfAvgOfMax</th>\n",
       "      <th>business_review_count</th>\n",
       "      <th>attributes</th>\n",
       "      <th>categories</th>\n",
       "      <th>hours</th>\n",
       "      <th>latitude</th>\n",
       "      <th>longitude</th>\n",
       "      <th>neighborhood</th>\n",
       "      <th>postal_code</th>\n",
       "      <th>review_id</th>\n",
       "      <th>review_date</th>\n",
       "      <th>Text</th>\n",
       "    </tr>\n",
       "  </thead>\n",
       "  <tbody>\n",
       "    <tr>\n",
       "      <th>0</th>\n",
       "      <td>1</td>\n",
       "      <td>AZ</td>\n",
       "      <td>Ahwatukee</td>\n",
       "      <td>=-v8Z3mdbbPs1ljLziHr2DA</td>\n",
       "      <td>My Wine Cellar</td>\n",
       "      <td>5030 E Warner Rd, Ste 2</td>\n",
       "      <td>3.0</td>\n",
       "      <td>166</td>\n",
       "      <td>{'Alcohol': 'beer_and_wine', 'HasTV': True, 'N...</td>\n",
       "      <td>['Wine Bars', 'Tapas/Small Plates', 'Gastropub...</td>\n",
       "      <td>{'Monday': '15:00-22:00', 'Tuesday': '15:00-22...</td>\n",
       "      <td>33.333688</td>\n",
       "      <td>-111.977519</td>\n",
       "      <td>NaN</td>\n",
       "      <td>85044</td>\n",
       "      <td>5kn-2_frpQDyVus_WRGJ-g</td>\n",
       "      <td>3/28/2016</td>\n",
       "      <td>This is a nice happy hour spot and it has a go...</td>\n",
       "    </tr>\n",
       "    <tr>\n",
       "      <th>1</th>\n",
       "      <td>2</td>\n",
       "      <td>AZ</td>\n",
       "      <td>Anthem</td>\n",
       "      <td>C-Qkudv7u8465nLasGR31A</td>\n",
       "      <td>Tru Burger Co.</td>\n",
       "      <td>39504 Daisy Mountain Dr</td>\n",
       "      <td>4.5</td>\n",
       "      <td>137</td>\n",
       "      <td>{'Alcohol': 'full_bar', 'HasTV': True, 'NoiseL...</td>\n",
       "      <td>['Burgers', 'Sandwiches', 'Restaurants', 'Amer...</td>\n",
       "      <td>{'Monday': '11:00-22:00', 'Tuesday': '11:00-22...</td>\n",
       "      <td>33.843457</td>\n",
       "      <td>-112.134722</td>\n",
       "      <td>NaN</td>\n",
       "      <td>85086</td>\n",
       "      <td>192JtX6n_rngJmGu3Wvo5Q</td>\n",
       "      <td>7/13/2017</td>\n",
       "      <td>I'm new to anthem so we tried out what looked ...</td>\n",
       "    </tr>\n",
       "    <tr>\n",
       "      <th>2</th>\n",
       "      <td>3</td>\n",
       "      <td>AZ</td>\n",
       "      <td>Anthem</td>\n",
       "      <td>C-Qkudv7u8465nLasGR31A</td>\n",
       "      <td>Tru Burger Co.</td>\n",
       "      <td>39504 Daisy Mountain Dr</td>\n",
       "      <td>4.5</td>\n",
       "      <td>137</td>\n",
       "      <td>{'Alcohol': 'full_bar', 'HasTV': True, 'NoiseL...</td>\n",
       "      <td>['Burgers', 'Sandwiches', 'Restaurants', 'Amer...</td>\n",
       "      <td>{'Monday': '11:00-22:00', 'Tuesday': '11:00-22...</td>\n",
       "      <td>33.843457</td>\n",
       "      <td>-112.134722</td>\n",
       "      <td>NaN</td>\n",
       "      <td>85086</td>\n",
       "      <td>4YWKO2TgNpmJGMhHxG6LLQ</td>\n",
       "      <td>10/15/2016</td>\n",
       "      <td>The most amazing burger in AZ and almost anywh...</td>\n",
       "    </tr>\n",
       "    <tr>\n",
       "      <th>3</th>\n",
       "      <td>4</td>\n",
       "      <td>AZ</td>\n",
       "      <td>Avondale</td>\n",
       "      <td>3JxKzWquEbPC3yPIfoCiLw</td>\n",
       "      <td>Eest Asian Bistro</td>\n",
       "      <td>3145 N Dysart Rd, Ste C102</td>\n",
       "      <td>5.0</td>\n",
       "      <td>118</td>\n",
       "      <td>{'RestaurantsTableService': True, 'GoodForMeal...</td>\n",
       "      <td>['Restaurants', 'Asian Fusion']</td>\n",
       "      <td>{'Monday': '11:00-21:30', 'Tuesday': '11:00-21...</td>\n",
       "      <td>33.481101</td>\n",
       "      <td>-112.339392</td>\n",
       "      <td>NaN</td>\n",
       "      <td>85392</td>\n",
       "      <td>6mPJgOafrDY6cHnDtk4Hlw</td>\n",
       "      <td>1/15/2017</td>\n",
       "      <td>What a wonderful dining experience. The staff ...</td>\n",
       "    </tr>\n",
       "    <tr>\n",
       "      <th>4</th>\n",
       "      <td>5</td>\n",
       "      <td>AZ</td>\n",
       "      <td>Avondale</td>\n",
       "      <td>NzWpIwYwGsjujewhYjPPPg</td>\n",
       "      <td>JT Boba House</td>\n",
       "      <td>10160 W Mcdowell Rd, Ste 130</td>\n",
       "      <td>5.0</td>\n",
       "      <td>162</td>\n",
       "      <td>{'RestaurantsTableService': False, 'GoodForMea...</td>\n",
       "      <td>['Taiwanese', 'Coffee &amp; Tea', 'Food', 'Restaur...</td>\n",
       "      <td>{'Monday': '10:00-22:00', 'Tuesday': '10:00-22...</td>\n",
       "      <td>33.467020</td>\n",
       "      <td>-112.279124</td>\n",
       "      <td>NaN</td>\n",
       "      <td>85392</td>\n",
       "      <td>16qBu781aD5Tmq7N37-0eg</td>\n",
       "      <td>8/6/2016</td>\n",
       "      <td>What a great Boba Place they have at least 40 ...</td>\n",
       "    </tr>\n",
       "  </tbody>\n",
       "</table>\n",
       "</div>"
      ],
      "text/plain": [
       "   Unnamed: 0 state       city              business_id      business_name  \\\n",
       "0           1    AZ  Ahwatukee  =-v8Z3mdbbPs1ljLziHr2DA     My Wine Cellar   \n",
       "1           2    AZ     Anthem   C-Qkudv7u8465nLasGR31A     Tru Burger Co.   \n",
       "2           3    AZ     Anthem   C-Qkudv7u8465nLasGR31A     Tru Burger Co.   \n",
       "3           4    AZ   Avondale   3JxKzWquEbPC3yPIfoCiLw  Eest Asian Bistro   \n",
       "4           5    AZ   Avondale   NzWpIwYwGsjujewhYjPPPg      JT Boba House   \n",
       "\n",
       "                        address  review_starsOfAvgOfMax  \\\n",
       "0       5030 E Warner Rd, Ste 2                     3.0   \n",
       "1       39504 Daisy Mountain Dr                     4.5   \n",
       "2       39504 Daisy Mountain Dr                     4.5   \n",
       "3    3145 N Dysart Rd, Ste C102                     5.0   \n",
       "4  10160 W Mcdowell Rd, Ste 130                     5.0   \n",
       "\n",
       "   business_review_count                                         attributes  \\\n",
       "0                    166  {'Alcohol': 'beer_and_wine', 'HasTV': True, 'N...   \n",
       "1                    137  {'Alcohol': 'full_bar', 'HasTV': True, 'NoiseL...   \n",
       "2                    137  {'Alcohol': 'full_bar', 'HasTV': True, 'NoiseL...   \n",
       "3                    118  {'RestaurantsTableService': True, 'GoodForMeal...   \n",
       "4                    162  {'RestaurantsTableService': False, 'GoodForMea...   \n",
       "\n",
       "                                          categories  \\\n",
       "0  ['Wine Bars', 'Tapas/Small Plates', 'Gastropub...   \n",
       "1  ['Burgers', 'Sandwiches', 'Restaurants', 'Amer...   \n",
       "2  ['Burgers', 'Sandwiches', 'Restaurants', 'Amer...   \n",
       "3                    ['Restaurants', 'Asian Fusion']   \n",
       "4  ['Taiwanese', 'Coffee & Tea', 'Food', 'Restaur...   \n",
       "\n",
       "                                               hours   latitude   longitude  \\\n",
       "0  {'Monday': '15:00-22:00', 'Tuesday': '15:00-22...  33.333688 -111.977519   \n",
       "1  {'Monday': '11:00-22:00', 'Tuesday': '11:00-22...  33.843457 -112.134722   \n",
       "2  {'Monday': '11:00-22:00', 'Tuesday': '11:00-22...  33.843457 -112.134722   \n",
       "3  {'Monday': '11:00-21:30', 'Tuesday': '11:00-21...  33.481101 -112.339392   \n",
       "4  {'Monday': '10:00-22:00', 'Tuesday': '10:00-22...  33.467020 -112.279124   \n",
       "\n",
       "  neighborhood  postal_code               review_id review_date  \\\n",
       "0          NaN        85044  5kn-2_frpQDyVus_WRGJ-g   3/28/2016   \n",
       "1          NaN        85086  192JtX6n_rngJmGu3Wvo5Q   7/13/2017   \n",
       "2          NaN        85086  4YWKO2TgNpmJGMhHxG6LLQ  10/15/2016   \n",
       "3          NaN        85392  6mPJgOafrDY6cHnDtk4Hlw   1/15/2017   \n",
       "4          NaN        85392  16qBu781aD5Tmq7N37-0eg    8/6/2016   \n",
       "\n",
       "                                                Text  \n",
       "0  This is a nice happy hour spot and it has a go...  \n",
       "1  I'm new to anthem so we tried out what looked ...  \n",
       "2  The most amazing burger in AZ and almost anywh...  \n",
       "3  What a wonderful dining experience. The staff ...  \n",
       "4  What a great Boba Place they have at least 40 ...  "
      ]
     },
     "execution_count": 13,
     "metadata": {},
     "output_type": "execute_result"
    }
   ],
   "source": [
    "result.head()"
   ]
  },
  {
   "cell_type": "markdown",
   "metadata": {},
   "source": [
    "Here we only select 'business_id' from our result table because we will use it to select the tip texts from tip file."
   ]
  },
  {
   "cell_type": "code",
   "execution_count": 14,
   "metadata": {
    "collapsed": true
   },
   "outputs": [],
   "source": [
    "newresult=result[['business_id']]"
   ]
  },
  {
   "cell_type": "code",
   "execution_count": 15,
   "metadata": {
    "collapsed": false
   },
   "outputs": [
    {
     "data": {
      "text/html": [
       "<div>\n",
       "<style>\n",
       "    .dataframe thead tr:only-child th {\n",
       "        text-align: right;\n",
       "    }\n",
       "\n",
       "    .dataframe thead th {\n",
       "        text-align: left;\n",
       "    }\n",
       "\n",
       "    .dataframe tbody tr th {\n",
       "        vertical-align: top;\n",
       "    }\n",
       "</style>\n",
       "<table border=\"1\" class=\"dataframe\">\n",
       "  <thead>\n",
       "    <tr style=\"text-align: right;\">\n",
       "      <th></th>\n",
       "      <th>business_id</th>\n",
       "    </tr>\n",
       "  </thead>\n",
       "  <tbody>\n",
       "    <tr>\n",
       "      <th>0</th>\n",
       "      <td>=-v8Z3mdbbPs1ljLziHr2DA</td>\n",
       "    </tr>\n",
       "    <tr>\n",
       "      <th>1</th>\n",
       "      <td>C-Qkudv7u8465nLasGR31A</td>\n",
       "    </tr>\n",
       "    <tr>\n",
       "      <th>2</th>\n",
       "      <td>C-Qkudv7u8465nLasGR31A</td>\n",
       "    </tr>\n",
       "    <tr>\n",
       "      <th>3</th>\n",
       "      <td>3JxKzWquEbPC3yPIfoCiLw</td>\n",
       "    </tr>\n",
       "    <tr>\n",
       "      <th>4</th>\n",
       "      <td>NzWpIwYwGsjujewhYjPPPg</td>\n",
       "    </tr>\n",
       "  </tbody>\n",
       "</table>\n",
       "</div>"
      ],
      "text/plain": [
       "               business_id\n",
       "0  =-v8Z3mdbbPs1ljLziHr2DA\n",
       "1   C-Qkudv7u8465nLasGR31A\n",
       "2   C-Qkudv7u8465nLasGR31A\n",
       "3   3JxKzWquEbPC3yPIfoCiLw\n",
       "4   NzWpIwYwGsjujewhYjPPPg"
      ]
     },
     "execution_count": 15,
     "metadata": {},
     "output_type": "execute_result"
    }
   ],
   "source": [
    "newresult.head()"
   ]
  },
  {
   "cell_type": "code",
   "execution_count": 16,
   "metadata": {
    "collapsed": true
   },
   "outputs": [],
   "source": [
    "tipcsv = pd.read_csv(\"E:/MyDownloads/Programming/group/tip.csv\",encoding='windows-1252')"
   ]
  },
  {
   "cell_type": "code",
   "execution_count": 20,
   "metadata": {
    "collapsed": false
   },
   "outputs": [
    {
     "data": {
      "text/html": [
       "<div>\n",
       "<style>\n",
       "    .dataframe thead tr:only-child th {\n",
       "        text-align: right;\n",
       "    }\n",
       "\n",
       "    .dataframe thead th {\n",
       "        text-align: left;\n",
       "    }\n",
       "\n",
       "    .dataframe tbody tr th {\n",
       "        vertical-align: top;\n",
       "    }\n",
       "</style>\n",
       "<table border=\"1\" class=\"dataframe\">\n",
       "  <thead>\n",
       "    <tr style=\"text-align: right;\">\n",
       "      <th></th>\n",
       "      <th>business_id</th>\n",
       "      <th>date</th>\n",
       "      <th>likes</th>\n",
       "      <th>text</th>\n",
       "      <th>user_id</th>\n",
       "    </tr>\n",
       "  </thead>\n",
       "  <tbody>\n",
       "    <tr>\n",
       "      <th>0</th>\n",
       "      <td>tJRDll5yqpZwehenzE2cSg</td>\n",
       "      <td>7/15/2012</td>\n",
       "      <td>0</td>\n",
       "      <td>Get here early enough to have dinner.</td>\n",
       "      <td>zcTZk7OG8ovAmh_fenH21g</td>\n",
       "    </tr>\n",
       "    <tr>\n",
       "      <th>1</th>\n",
       "      <td>jH19V2I9fIslnNhDzPmdkA</td>\n",
       "      <td>8/12/2015</td>\n",
       "      <td>0</td>\n",
       "      <td>Great breakfast large portions and friendly wa...</td>\n",
       "      <td>ZcLKXikTHYOnYt5VYRO5sg</td>\n",
       "    </tr>\n",
       "    <tr>\n",
       "      <th>2</th>\n",
       "      <td>dAa0hB2yrnHzVmsCkN4YvQ</td>\n",
       "      <td>6/20/2014</td>\n",
       "      <td>0</td>\n",
       "      <td>Nice place. Great staff.  A fixture in the tow...</td>\n",
       "      <td>oaYhjqBbh18ZhU0bpyzSuw</td>\n",
       "    </tr>\n",
       "    <tr>\n",
       "      <th>3</th>\n",
       "      <td>dAa0hB2yrnHzVmsCkN4YvQ</td>\n",
       "      <td>10/12/2016</td>\n",
       "      <td>0</td>\n",
       "      <td>Happy hour 5-7 Monday - Friday</td>\n",
       "      <td>ulQ8Nyj7jCUR8M83SUMoRQ</td>\n",
       "    </tr>\n",
       "    <tr>\n",
       "      <th>4</th>\n",
       "      <td>ESzO3Av0b1_TzKOiqzbQYQ</td>\n",
       "      <td>1/28/2017</td>\n",
       "      <td>0</td>\n",
       "      <td>Parking is a premium, keep circling, you will ...</td>\n",
       "      <td>ulQ8Nyj7jCUR8M83SUMoRQ</td>\n",
       "    </tr>\n",
       "  </tbody>\n",
       "</table>\n",
       "</div>"
      ],
      "text/plain": [
       "              business_id        date  likes  \\\n",
       "0  tJRDll5yqpZwehenzE2cSg   7/15/2012      0   \n",
       "1  jH19V2I9fIslnNhDzPmdkA   8/12/2015      0   \n",
       "2  dAa0hB2yrnHzVmsCkN4YvQ   6/20/2014      0   \n",
       "3  dAa0hB2yrnHzVmsCkN4YvQ  10/12/2016      0   \n",
       "4  ESzO3Av0b1_TzKOiqzbQYQ   1/28/2017      0   \n",
       "\n",
       "                                                text                 user_id  \n",
       "0              Get here early enough to have dinner.  zcTZk7OG8ovAmh_fenH21g  \n",
       "1  Great breakfast large portions and friendly wa...  ZcLKXikTHYOnYt5VYRO5sg  \n",
       "2  Nice place. Great staff.  A fixture in the tow...  oaYhjqBbh18ZhU0bpyzSuw  \n",
       "3                     Happy hour 5-7 Monday - Friday  ulQ8Nyj7jCUR8M83SUMoRQ  \n",
       "4  Parking is a premium, keep circling, you will ...  ulQ8Nyj7jCUR8M83SUMoRQ  "
      ]
     },
     "execution_count": 20,
     "metadata": {},
     "output_type": "execute_result"
    }
   ],
   "source": [
    "tipcsv.head()"
   ]
  },
  {
   "cell_type": "code",
   "execution_count": 17,
   "metadata": {
    "collapsed": true
   },
   "outputs": [],
   "source": [
    "tiptext=tipcsv[['business_id','text']]"
   ]
  },
  {
   "cell_type": "code",
   "execution_count": 41,
   "metadata": {
    "collapsed": false
   },
   "outputs": [
    {
     "data": {
      "text/html": [
       "<div>\n",
       "<style>\n",
       "    .dataframe thead tr:only-child th {\n",
       "        text-align: right;\n",
       "    }\n",
       "\n",
       "    .dataframe thead th {\n",
       "        text-align: left;\n",
       "    }\n",
       "\n",
       "    .dataframe tbody tr th {\n",
       "        vertical-align: top;\n",
       "    }\n",
       "</style>\n",
       "<table border=\"1\" class=\"dataframe\">\n",
       "  <thead>\n",
       "    <tr style=\"text-align: right;\">\n",
       "      <th></th>\n",
       "      <th>business_id</th>\n",
       "      <th>text</th>\n",
       "    </tr>\n",
       "  </thead>\n",
       "  <tbody>\n",
       "    <tr>\n",
       "      <th>0</th>\n",
       "      <td>C-Qkudv7u8465nLasGR31A</td>\n",
       "      <td>Had another visit. Much more efficient. Good l...</td>\n",
       "    </tr>\n",
       "    <tr>\n",
       "      <th>1</th>\n",
       "      <td>C-Qkudv7u8465nLasGR31A</td>\n",
       "      <td>Delicious food fresh and the staff were friendly</td>\n",
       "    </tr>\n",
       "    <tr>\n",
       "      <th>2</th>\n",
       "      <td>C-Qkudv7u8465nLasGR31A</td>\n",
       "      <td>The food is fantastic and the new owners are a...</td>\n",
       "    </tr>\n",
       "    <tr>\n",
       "      <th>3</th>\n",
       "      <td>C-Qkudv7u8465nLasGR31A</td>\n",
       "      <td>Very clean. Great service and good food.</td>\n",
       "    </tr>\n",
       "    <tr>\n",
       "      <th>4</th>\n",
       "      <td>C-Qkudv7u8465nLasGR31A</td>\n",
       "      <td>Ask the bartenders for specials! Trying a cucu...</td>\n",
       "    </tr>\n",
       "  </tbody>\n",
       "</table>\n",
       "</div>"
      ],
      "text/plain": [
       "              business_id                                               text\n",
       "0  C-Qkudv7u8465nLasGR31A  Had another visit. Much more efficient. Good l...\n",
       "1  C-Qkudv7u8465nLasGR31A   Delicious food fresh and the staff were friendly\n",
       "2  C-Qkudv7u8465nLasGR31A  The food is fantastic and the new owners are a...\n",
       "3  C-Qkudv7u8465nLasGR31A           Very clean. Great service and good food.\n",
       "4  C-Qkudv7u8465nLasGR31A  Ask the bartenders for specials! Trying a cucu..."
      ]
     },
     "execution_count": 41,
     "metadata": {},
     "output_type": "execute_result"
    }
   ],
   "source": [
    "tiptext.head()"
   ]
  },
  {
   "cell_type": "markdown",
   "metadata": {},
   "source": [
    "We mergered two tables to a new file since we care about the words on the tip of our selected businesses."
   ]
  },
  {
   "cell_type": "code",
   "execution_count": 18,
   "metadata": {
    "collapsed": true
   },
   "outputs": [],
   "source": [
    "merged=newresult.merge(tiptext,on='business_id')\n",
    "merged.to_csv(\"tiptext.csv\",index=False)"
   ]
  },
  {
   "cell_type": "code",
   "execution_count": 19,
   "metadata": {
    "collapsed": true
   },
   "outputs": [],
   "source": [
    "tiptext = pd.read_csv(\"tiptext.csv\",encoding='windows-1252')"
   ]
  },
  {
   "cell_type": "code",
   "execution_count": 44,
   "metadata": {
    "collapsed": false
   },
   "outputs": [
    {
     "data": {
      "text/html": [
       "<div>\n",
       "<style>\n",
       "    .dataframe thead tr:only-child th {\n",
       "        text-align: right;\n",
       "    }\n",
       "\n",
       "    .dataframe thead th {\n",
       "        text-align: left;\n",
       "    }\n",
       "\n",
       "    .dataframe tbody tr th {\n",
       "        vertical-align: top;\n",
       "    }\n",
       "</style>\n",
       "<table border=\"1\" class=\"dataframe\">\n",
       "  <thead>\n",
       "    <tr style=\"text-align: right;\">\n",
       "      <th></th>\n",
       "      <th>business_id</th>\n",
       "      <th>text</th>\n",
       "    </tr>\n",
       "  </thead>\n",
       "  <tbody>\n",
       "    <tr>\n",
       "      <th>0</th>\n",
       "      <td>C-Qkudv7u8465nLasGR31A</td>\n",
       "      <td>Had another visit. Much more efficient. Good l...</td>\n",
       "    </tr>\n",
       "    <tr>\n",
       "      <th>1</th>\n",
       "      <td>C-Qkudv7u8465nLasGR31A</td>\n",
       "      <td>Delicious food fresh and the staff were friendly</td>\n",
       "    </tr>\n",
       "    <tr>\n",
       "      <th>2</th>\n",
       "      <td>C-Qkudv7u8465nLasGR31A</td>\n",
       "      <td>The food is fantastic and the new owners are a...</td>\n",
       "    </tr>\n",
       "    <tr>\n",
       "      <th>3</th>\n",
       "      <td>C-Qkudv7u8465nLasGR31A</td>\n",
       "      <td>Very clean. Great service and good food.</td>\n",
       "    </tr>\n",
       "    <tr>\n",
       "      <th>4</th>\n",
       "      <td>C-Qkudv7u8465nLasGR31A</td>\n",
       "      <td>Ask the bartenders for specials! Trying a cucu...</td>\n",
       "    </tr>\n",
       "  </tbody>\n",
       "</table>\n",
       "</div>"
      ],
      "text/plain": [
       "              business_id                                               text\n",
       "0  C-Qkudv7u8465nLasGR31A  Had another visit. Much more efficient. Good l...\n",
       "1  C-Qkudv7u8465nLasGR31A   Delicious food fresh and the staff were friendly\n",
       "2  C-Qkudv7u8465nLasGR31A  The food is fantastic and the new owners are a...\n",
       "3  C-Qkudv7u8465nLasGR31A           Very clean. Great service and good food.\n",
       "4  C-Qkudv7u8465nLasGR31A  Ask the bartenders for specials! Trying a cucu..."
      ]
     },
     "execution_count": 44,
     "metadata": {},
     "output_type": "execute_result"
    }
   ],
   "source": [
    "tiptext.head()"
   ]
  },
  {
   "cell_type": "code",
   "execution_count": 20,
   "metadata": {
    "collapsed": true
   },
   "outputs": [],
   "source": [
    "newtext=tiptext[['text']]"
   ]
  },
  {
   "cell_type": "code",
   "execution_count": 21,
   "metadata": {
    "collapsed": true
   },
   "outputs": [],
   "source": [
    "newtext.to_csv('newtext.csv')"
   ]
  },
  {
   "cell_type": "code",
   "execution_count": 22,
   "metadata": {
    "collapsed": true
   },
   "outputs": [],
   "source": [
    "import collections \n",
    "import re"
   ]
  },
  {
   "cell_type": "code",
   "execution_count": 23,
   "metadata": {
    "collapsed": true
   },
   "outputs": [],
   "source": [
    "words=re.findall(r'\\w+',open('newtext.csv').read().lower())"
   ]
  },
  {
   "cell_type": "markdown",
   "metadata": {},
   "source": [
    "Find top 50 common words."
   ]
  },
  {
   "cell_type": "code",
   "execution_count": 26,
   "metadata": {
    "collapsed": true
   },
   "outputs": [],
   "source": [
    "most_common=collections.Counter(words).most_common(50)"
   ]
  },
  {
   "cell_type": "code",
   "execution_count": 27,
   "metadata": {
    "collapsed": false
   },
   "outputs": [
    {
     "name": "stdout",
     "output_type": "stream",
     "text": [
      "[('the', 2756), ('and', 2005), ('is', 1246), ('food', 1236), ('great', 1219), ('a', 1200), ('to', 1017), ('good', 1005), ('for', 827), ('i', 765), ('service', 736), ('it', 710), ('place', 704), ('in', 626), ('was', 605), ('of', 595), ('you', 564), ('this', 495), ('with', 464), ('best', 459), ('on', 430), ('they', 426), ('here', 413), ('love', 399), ('s', 385), ('very', 381), ('t', 379), ('but', 364), ('are', 353), ('my', 334), ('amazing', 313), ('so', 310), ('get', 298), ('have', 289), ('not', 278), ('be', 274), ('awesome', 262), ('we', 237), ('try', 235), ('time', 234), ('at', 233), ('friendly', 213), ('always', 210), ('nice', 209), ('that', 208), ('delicious', 202), ('if', 202), ('all', 197), ('can', 192), ('wait', 190)]\n"
     ]
    }
   ],
   "source": [
    "print(most_common)"
   ]
  },
  {
   "cell_type": "code",
   "execution_count": 1,
   "metadata": {
    "collapsed": false
   },
   "outputs": [
    {
     "data": {
      "image/png": "[encoded data removed]",
      "text/plain": [
       "<IPython.core.display.Image object>"
      ]
     },
     "execution_count": 1,
     "metadata": {},
     "output_type": "execute_result"
    }
   ],
   "source": [
    "from IPython.display import Image\n",
    "Image(filename = \"tipcloud.png\")"
   ]
  }
 ],
 "metadata": {
  "kernelspec": {
   "display_name": "Python 3",
   "language": "python",
   "name": "python3"
  },
  "language_info": {
   "codemirror_mode": {
    "name": "ipython",
    "version": 3
   },
   "file_extension": ".py",
   "mimetype": "text/x-python",
   "name": "python",
   "nbconvert_exporter": "python",
   "pygments_lexer": "ipython3",
   "version": "3.5.2"
  }
 },
 "nbformat": 4,
 "nbformat_minor": 2
}
